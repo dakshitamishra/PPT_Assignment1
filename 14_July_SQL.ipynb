{
  "nbformat": 4,
  "nbformat_minor": 0,
  "metadata": {
    "colab": {
      "provenance": []
    },
    "kernelspec": {
      "name": "python3",
      "display_name": "Python 3"
    },
    "language_info": {
      "name": "python"
    }
  },
  "cells": [
    {
      "cell_type": "code",
      "execution_count": null,
      "metadata": {
        "id": "FfDIXelRkR1h"
      },
      "outputs": [],
      "source": []
    },
    {
      "cell_type": "markdown",
      "source": [
        "Write an SQL query to retrieve the names and email addresses of all employees from a table named \"Employees\".\n"
      ],
      "metadata": {
        "id": "LJdhcmFOkb5F"
      }
    },
    {
      "cell_type": "code",
      "source": [
        "select name,email_address from Employees ;"
      ],
      "metadata": {
        "id": "Ou-_kZLhkepU"
      },
      "execution_count": 2,
      "outputs": []
    },
    {
      "cell_type": "markdown",
      "source": [
        "Write an SQL query to filter records from a table named \"Customers\" where the \"City\" column is 'New York'."
      ],
      "metadata": {
        "id": "k4c2FLzSk3s6"
      }
    },
    {
      "cell_type": "code",
      "source": [
        "select * from Customers where City= 'New York';"
      ],
      "metadata": {
        "id": "S9jGPJcjk2Nw"
      },
      "execution_count": null,
      "outputs": []
    },
    {
      "cell_type": "markdown",
      "source": [
        "Write an SQL query to sort records in descending order based on the \"DateOfBirth\" column in a table named \"Users\"."
      ],
      "metadata": {
        "id": "V2VPtbJ4mZZb"
      }
    },
    {
      "cell_type": "code",
      "source": [
        "select * from Users order by DateOfBirth DESC;"
      ],
      "metadata": {
        "id": "FnRB3uRomeBV"
      },
      "execution_count": null,
      "outputs": []
    },
    {
      "cell_type": "markdown",
      "source": [
        "4. Write an SQL query to sort records in ascending order based on the \"RegistrationDate\" column in a table named \"Users\"."
      ],
      "metadata": {
        "id": "fK6Jt_1Jm5XF"
      }
    },
    {
      "cell_type": "code",
      "source": [
        "select * from Users order by RegistrationDate;"
      ],
      "metadata": {
        "id": "HwDTkzWym87m"
      },
      "execution_count": null,
      "outputs": []
    },
    {
      "cell_type": "markdown",
      "source": [
        "Write an SQL query to find the employee with the highest salary from a table named \"Employees\" and display their name, position, and salary."
      ],
      "metadata": {
        "id": "dJgxCDQSnGGg"
      }
    },
    {
      "cell_type": "code",
      "source": [
        "select name,position,salary from Employees where salary=(select Max(salary) from Employees)"
      ],
      "metadata": {
        "id": "Sjm8KHOXnK4w"
      },
      "execution_count": null,
      "outputs": []
    },
    {
      "cell_type": "markdown",
      "source": [
        "Write an SQL query to retrieve records from a table named \"Customers\" where the \"Phone\" column matches the pattern '+1-XXX-XXX-XXXX'"
      ],
      "metadata": {
        "id": "wVM-ETHioBQd"
      }
    },
    {
      "cell_type": "code",
      "source": [
        "select * from Customers where Phone LIKE \"+1-XXX-XXX-XXXX\" ;"
      ],
      "metadata": {
        "id": "DvVwcr3YoBpb"
      },
      "execution_count": null,
      "outputs": []
    },
    {
      "cell_type": "markdown",
      "source": [
        "Write an SQL query to retrieve the top 5 customers with the highest total purchase amount from a table named \"Orders\" and display their names and total purchase amounts.\n"
      ],
      "metadata": {
        "id": "y9i-Za4PoB6c"
      }
    },
    {
      "cell_type": "code",
      "source": [
        "select TOP 5 names,total_purchase_amount  from Orders order by total_purchase_amount DESC;"
      ],
      "metadata": {
        "id": "16C1EOttoCIR"
      },
      "execution_count": null,
      "outputs": []
    },
    {
      "cell_type": "markdown",
      "source": [
        "Write an SQL query to calculate the percentage of sales for each product category in a table named \"Sales\" and display the category name, total sales amount, and the percentage of total sales."
      ],
      "metadata": {
        "id": "MlbkK-VmrASk"
      }
    },
    {
      "cell_type": "code",
      "source": [
        "select name,sum(sales) as total sales amount, (sales/sum(sales)) *100 as percentage of total sales"
      ],
      "metadata": {
        "id": "bAvvVpm9rFeW"
      },
      "execution_count": null,
      "outputs": []
    },
    {
      "cell_type": "markdown",
      "source": [
        "Write an SQL query to find the customers who have made the highest total purchases across all years from a table named \"Orders\" and display their names, email addresses, and the total purchase amount.\n"
      ],
      "metadata": {
        "id": "S59-RXN5rwwG"
      }
    },
    {
      "cell_type": "code",
      "source": [
        "select names, email addresses,total purchase amount from Employees where total purchase amount =(select Max(total purchase amount) from Orders)"
      ],
      "metadata": {
        "id": "jPnSF5gxr-S0"
      },
      "execution_count": null,
      "outputs": []
    }
  ]
}