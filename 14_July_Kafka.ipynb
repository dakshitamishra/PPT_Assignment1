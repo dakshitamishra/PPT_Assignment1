{
  "nbformat": 4,
  "nbformat_minor": 0,
  "metadata": {
    "colab": {
      "provenance": []
    },
    "kernelspec": {
      "name": "python3",
      "display_name": "Python 3"
    },
    "language_info": {
      "name": "python"
    }
  },
  "cells": [
    {
      "cell_type": "code",
      "execution_count": null,
      "metadata": {
        "id": "cOlp1N9sWsWS"
      },
      "outputs": [],
      "source": []
    },
    {
      "cell_type": "markdown",
      "source": [
        " 1a) Write a Python program to create a Kafka producer.\n",
        "   b) Configure the producer to connect to a Kafka cluster.\n",
        "   c) Implement logic to send messages to a Kafka topic.\n",
        "\n"
      ],
      "metadata": {
        "id": "E89KlYIqWyUh"
      }
    },
    {
      "cell_type": "code",
      "source": [
        "from kafka import KafkaProducer\n",
        "bootstrap_servers = ['localhost:9092']\n",
        "topicName = 'myTopic'\n",
        "producer = KafkaProducer(bootstrap_servers = bootstrap_servers)\n",
        "producer = KafkaProducer()"
      ],
      "metadata": {
        "id": "E6b7FcJpWzI9"
      },
      "execution_count": null,
      "outputs": []
    },
    {
      "cell_type": "code",
      "source": [
        "ack = producer.send(topicName, b'Hello World!!!!!!!!')\n",
        "metadata = ack.get()\n",
        "print(metadata.topic)\n",
        "print(metadata.partition)"
      ],
      "metadata": {
        "id": "hI6FxjlsXxrj"
      },
      "execution_count": null,
      "outputs": []
    },
    {
      "cell_type": "markdown",
      "source": [
        "2. Setting up a Kafka Consumer:\n",
        "   a) Write a Python program to create a Kafka consumer.\n",
        "   b) Configure the consumer to connect to a Kafka cluster.\n",
        "   c) Implement logic to consume messages from a Kafka topic.\n"
      ],
      "metadata": {
        "id": "el5WZNpUX5cM"
      }
    },
    {
      "cell_type": "code",
      "source": [
        "from kafka import KafkaConsumer\n",
        "import sys\n",
        "bootstrap_servers = ['localhost:9092']\n",
        "topicName = 'myTopic'\n",
        "consumer = KafkaConsumer (topicName, group_id = 'group1',bootstrap_servers = bootstrap_servers,\n",
        "auto_offset_reset = 'earliest')"
      ],
      "metadata": {
        "id": "hmCJM-k_X1Vs"
      },
      "execution_count": null,
      "outputs": []
    },
    {
      "cell_type": "code",
      "source": [
        "try:\n",
        "    for message in consumer:\n",
        "        print (\"%s:%d:%d: key=%s value=%s\" % (message.topic, message.partition,message.offset, message.key,message.value))\n",
        "except KeyboardInterrupt:\n",
        "    sys.exit()"
      ],
      "metadata": {
        "id": "n6FteaJ6YK1i"
      },
      "execution_count": null,
      "outputs": []
    },
    {
      "cell_type": "markdown",
      "source": [
        "3. Creating and Managing Kafka Topics:\n",
        "   a) Write a Python program to create a new Kafka topic.\n",
        "   b) Implement functionality to list existing topics.\n",
        "   c) Develop logic to delete an existing Kafka topic.\n"
      ],
      "metadata": {
        "id": "SKmGezVrYSke"
      }
    },
    {
      "cell_type": "code",
      "source": [
        "bin/kafka-topics.sh --create --zookeeper localhost:2181 --replication-factor 1 --partitions 1 --topic test_topic"
      ],
      "metadata": {
        "id": "Pd7plOiRYS5K"
      },
      "execution_count": null,
      "outputs": []
    },
    {
      "cell_type": "code",
      "source": [
        "# 1) Listing the number of Topics\n",
        "\n",
        "# To list the number of topics created within a broker, use '-list' command as:\n",
        "\n",
        "'kafka-topics.bat -zookeeper localhost:2181 -list'."
      ],
      "metadata": {
        "id": "p1HpMCf4ZHnx"
      },
      "execution_count": null,
      "outputs": []
    },
    {
      "cell_type": "code",
      "source": [
        "'kafka-topics.sh -zookeeper localhost:2181 -topic<topic_name> --delete'"
      ],
      "metadata": {
        "id": "bco6wie0ZOzu"
      },
      "execution_count": null,
      "outputs": []
    },
    {
      "cell_type": "markdown",
      "source": [
        "4. Producing and Consuming Messages:\n",
        "   a) Write a Python program to produce messages to a Kafka topic.\n",
        "   b) Implement logic to consume messages from the same Kafka topic.\n",
        "   c) Test the end-to-end flow of message production and consumption.\n"
      ],
      "metadata": {
        "id": "PzrQhtdAZ4vL"
      }
    },
    {
      "cell_type": "code",
      "source": [
        "for message in my_consumer:\n",
        "    message = message.value\n",
        "    collection.insert_one(message)\n",
        "    print(message + \" added to \" + my_collection)"
      ],
      "metadata": {
        "id": "646TsCJ5Z49h"
      },
      "execution_count": null,
      "outputs": []
    },
    {
      "cell_type": "markdown",
      "source": [
        "a) Write a Python program to create a Kafka consumer within a consumer group.\n",
        "   b) Implement logic to handle messages consumed by different consumers within the same group.\n",
        "   c) Observe the behavior of consumer group rebalancing when adding or removing consumers.\n"
      ],
      "metadata": {
        "id": "BosTdZqLaFNj"
      }
    },
    {
      "cell_type": "code",
      "source": [
        "from confluent_kafka import Consumer\n",
        "################\n",
        "c=Consumer({'bootstrap.servers':'localhost:9092','group.id':'python-consumer','auto.offset.reset':'earliest'})\n",
        "print('Kafka Consumer has been initiated...')"
      ],
      "metadata": {
        "id": "zSgZgYFpaHcz"
      },
      "execution_count": null,
      "outputs": []
    }
  ]
}