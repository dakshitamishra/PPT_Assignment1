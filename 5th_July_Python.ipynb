{
  "nbformat": 4,
  "nbformat_minor": 0,
  "metadata": {
    "colab": {
      "provenance": []
    },
    "kernelspec": {
      "name": "python3",
      "display_name": "Python 3"
    },
    "language_info": {
      "name": "python"
    }
  },
  "cells": [
    {
      "cell_type": "code",
      "execution_count": null,
      "metadata": {
        "id": "oyhEZsPNFdi6"
      },
      "outputs": [],
      "source": []
    },
    {
      "cell_type": "markdown",
      "source": [
        "Write a Python program to check if a given string is an anagram."
      ],
      "metadata": {
        "id": "zAuWIxYEIGWF"
      }
    },
    {
      "cell_type": "code",
      "source": [
        "def Anogram_check(str1, str2):\n",
        "# Strings are sorted and check whether both are matching or not.\n",
        "   if(sorted(str1)== sorted(str2)):\n",
        "      print(\"Both strings are an Anagram.\")\n",
        "   else:\n",
        "      print(\"Both strings are not an Anagram.\")\n",
        "string1 =\"python\"\n",
        "string2 =\"ythopn\"\n"
      ],
      "metadata": {
        "id": "oi53XTPpIIJw"
      },
      "execution_count": 2,
      "outputs": []
    },
    {
      "cell_type": "markdown",
      "source": [
        "Write a Python program to find the maximum and minimum values in a\n",
        "dictionary."
      ],
      "metadata": {
        "id": "Kxr7UZUAImZJ"
      }
    },
    {
      "cell_type": "code",
      "source": [
        "my_dict = {'x':500, 'y':5874, 'z': 560}\n",
        "\n",
        "key_max = max(my_dict.keys(), key=(lambda k: my_dict[k]))\n",
        "key_min = min(my_dict.keys(), key=(lambda k: my_dict[k]))\n",
        "\n",
        "print('Maximum Value: ',my_dict[key_max])\n",
        "print('Minimum Value: ',my_dict[key_min])\n",
        "\n",
        "\n"
      ],
      "metadata": {
        "colab": {
          "base_uri": "https://localhost:8080/"
        },
        "id": "YnyluRt1Im8n",
        "outputId": "e31626ba-a9ed-457d-80a2-b9ccb9136b34"
      },
      "execution_count": 3,
      "outputs": [
        {
          "output_type": "stream",
          "name": "stdout",
          "text": [
            "Maximum Value:  5874\n",
            "Minimum Value:  500\n"
          ]
        }
      ]
    },
    {
      "cell_type": "markdown",
      "source": [
        "\n",
        "Write a Python program to find the average of a list of numbers.\n",
        "```\n",
        "# This is formatted as code\n",
        "```\n",
        "\n"
      ],
      "metadata": {
        "id": "nYLvIK9VInOV"
      }
    },
    {
      "cell_type": "code",
      "source": [
        "def Average(lst):\n",
        "    return sum(lst) / len(lst)\n",
        "\n",
        "# Driver Code\n",
        "lst = [15, 9, 55, 41, 35, 20, 62, 49]\n",
        "average = Average(lst)\n",
        "\n",
        "# Printing average of the list\n",
        "print(\"Average of the list =\", round(average, 2))"
      ],
      "metadata": {
        "colab": {
          "base_uri": "https://localhost:8080/"
        },
        "id": "TwubVPS8InjD",
        "outputId": "33b34e58-6b39-4e35-efb6-d6fe7e5b77ab"
      },
      "execution_count": 4,
      "outputs": [
        {
          "output_type": "stream",
          "name": "stdout",
          "text": [
            "Average of the list = 35.75\n"
          ]
        }
      ]
    },
    {
      "cell_type": "markdown",
      "source": [
        "Write a Python program to remove all vowels from a string."
      ],
      "metadata": {
        "id": "g-O6P2LTIn6Y"
      }
    },
    {
      "cell_type": "code",
      "source": [
        "string = \"coding\"\n",
        "\n",
        "vowels = ['a', 'e', 'i', 'o', 'u', 'A', 'E', 'I', 'O', 'U']\n",
        "result = \"\"\n",
        "\n",
        "for i in range(len(string)):\n",
        "    if string[i] not in vowels:\n",
        "        result = result + string[i]\n",
        "\n",
        "print(\"\\nAfter removing Vowels: \", result)"
      ],
      "metadata": {
        "colab": {
          "base_uri": "https://localhost:8080/"
        },
        "id": "UZbIMDLOIoHw",
        "outputId": "6feebec9-64e5-4b46-8c2a-d31b05251b11"
      },
      "execution_count": 5,
      "outputs": [
        {
          "output_type": "stream",
          "name": "stdout",
          "text": [
            "\n",
            "After removing Vowels:  cdng\n"
          ]
        }
      ]
    },
    {
      "cell_type": "markdown",
      "source": [
        "Write a Python function to calculate the factorial of a number using recursion."
      ],
      "metadata": {
        "id": "3Lb-dIRLIoVc"
      }
    },
    {
      "cell_type": "code",
      "source": [
        "def recur_factorial(n):\n",
        "   if n == 1:\n",
        "       return n\n",
        "   else:\n",
        "       return n*recur_factorial(n-1)\n",
        "\n",
        "num = 7\n",
        "\n",
        "# check if the number is negative\n",
        "if num < 0:\n",
        "   print(\"Sorry, factorial does not exist for negative numbers\")\n",
        "elif num == 0:\n",
        "   print(\"The factorial of 0 is 1\")\n",
        "else:\n",
        "   print(\"The factorial of\", num, \"is\", recur_factorial(num))"
      ],
      "metadata": {
        "id": "8cfyRL1cIohY"
      },
      "execution_count": null,
      "outputs": []
    },
    {
      "cell_type": "markdown",
      "source": [
        "Write a Python program to merge two unsorted lists into a single sorted list\n",
        "using the merge sort algorithm."
      ],
      "metadata": {
        "id": "8CytfiFMIowa"
      }
    },
    {
      "cell_type": "code",
      "source": [
        "def unsortedarray (a, b, res, n, m):\n",
        "   # Sorting a[] and b[]\n",
        "   a.sort()\n",
        "   b.sort()\n",
        "   # Merge two sorted arrays into res[]\n",
        "   i, j, k = 0, 0, 0\n",
        "   while (i < n and j < m):\n",
        "      if (a[i] <= b[j]):\n",
        "         res[k] = a[i]\n",
        "         i += 1\n",
        "         k += 1\n",
        "      else:\n",
        "         res[k] = b[j]\n",
        "         j += 1\n",
        "         k += 1\n",
        "   while (i < n):  # Merging remaining\n",
        "      # elements of a[] (if any)\n",
        "      res[k] = a[i]\n",
        "      i += 1\n",
        "      k += 1\n",
        "   while (j < m):  # Merging remaining\n",
        "      # elements of b[] (if any)\n",
        "      res[k] = b[j]\n",
        "      j += 1\n",
        "      k += 1\n",
        "# Driver code\n",
        "A=list()\n",
        "n=int(input(\"Enter the size of the First List ::\"))\n",
        "print(\"Enter the Element of First List ::\")\n",
        "for i in range(int(n)):\n",
        "   k=int(input(\"\"))\n",
        "   A.append(k)\n",
        "B=list()\n",
        "m=int(input(\"Enter the size of the Second List ::\"))\n",
        "print(\"Enter the Element of Second List ::\")\n",
        "for i in range(int(n)):\n",
        "   k=int(input(\"\"))\n",
        "   B.append(k)\n",
        "# Final merge list\n",
        "res = [0 for i in range(n + m)]\n",
        "unsortedarray(A, B, res, n, m)\n",
        "print (\"Sorted merged list :\")\n",
        "for i in range(n + m):\n",
        "   print (res[i],)"
      ],
      "metadata": {
        "id": "w-VAE4t6Io8U"
      },
      "execution_count": null,
      "outputs": []
    },
    {
      "cell_type": "markdown",
      "source": [
        "Write a Python program to find the GCD (Greatest Common Divisor) of two\n",
        "numbers."
      ],
      "metadata": {
        "id": "G2x7ccWvL0BE"
      }
    },
    {
      "cell_type": "code",
      "source": [
        "import math\n",
        "\n",
        "# prints 12\n",
        "print(\"The gcd of 60 and 48 is : \", end=\"\")\n",
        "print(math.gcd(60, 48))"
      ],
      "metadata": {
        "id": "p3c0t1A0L7Ni"
      },
      "execution_count": null,
      "outputs": []
    },
    {
      "cell_type": "markdown",
      "source": [
        "Write a Python program to find the second-largest element in a list."
      ],
      "metadata": {
        "id": "ehPRvpwuL7dM"
      }
    },
    {
      "cell_type": "code",
      "source": [
        "list1 = [10, 20, 4, 45, 99]\n",
        "\n",
        "mx = max(list1[0], list1[1])\n",
        "secondmax = min(list1[0], list1[1])\n",
        "n = len(list1)\n",
        "for i in range(2,n):\n",
        "    if list1[i] > mx:\n",
        "        secondmax = mx\n",
        "        mx = list1[i]\n",
        "    elif list1[i] > secondmax and \\\n",
        "        mx != list1[i]:\n",
        "        secondmax = list1[i]\n",
        "    elif mx == secondmax and \\\n",
        "        secondmax != list1[i]:\n",
        "          secondmax = list1[i]\n",
        "\n",
        "print(\"Second highest number is : \",\\\n",
        "      str(secondmax))"
      ],
      "metadata": {
        "id": "TC9OS--GL7pj"
      },
      "execution_count": null,
      "outputs": []
    },
    {
      "cell_type": "markdown",
      "source": [
        "Write a Python program to find the longest common subsequence between two\n",
        "strings using dynamic programming."
      ],
      "metadata": {
        "id": "TO1gf3ZOMF6v"
      }
    },
    {
      "cell_type": "code",
      "source": [
        "def lcs(X, Y, m, n):\n",
        "\n",
        "    if m == 0 or n == 0:\n",
        "       return 0;\n",
        "    elif X[m-1] == Y[n-1]:\n",
        "       return 1 + lcs(X, Y, m-1, n-1);\n",
        "    else:\n",
        "       return max(lcs(X, Y, m, n-1), lcs(X, Y, m-1, n));\n",
        "\n",
        "\n",
        "# Driver program to test the above function\n",
        "X = \"AGGTAB\"\n",
        "Y = \"GXTXAYB\"\n",
        "print (\"Length of LCS is \", lcs(X, Y, len(X), len(Y)))"
      ],
      "metadata": {
        "id": "R5sSdlogMQ9j"
      },
      "execution_count": null,
      "outputs": []
    }
  ]
}